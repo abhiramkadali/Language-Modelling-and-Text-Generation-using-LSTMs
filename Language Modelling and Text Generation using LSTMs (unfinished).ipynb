{
 "cells": [
  {
   "cell_type": "markdown",
   "metadata": {},
   "source": [
    "# Language Modelling and Text Generation using LSTMs"
   ]
  },
  {
   "cell_type": "markdown",
   "metadata": {},
   "source": [
    "Link: https://medium.com/@shivambansal36/language-modelling-text-generation-using-lstms-deep-learning-for-nlp-ed36b224b275"
   ]
  },
  {
   "cell_type": "markdown",
   "metadata": {},
   "source": [
    " Import the required libraries"
   ]
  },
  {
   "cell_type": "code",
   "execution_count": 43,
   "metadata": {},
   "outputs": [],
   "source": [
    "import numpy as np\n",
    "import pandas as pd\n",
    "import tensorflow as tf\n",
    "from tensorflow.keras.layers import Embedding, LSTM, Dense, Dropout\n",
    "from tensorflow.keras.preprocessing.text import Tokenizer\n",
    "from tensorflow.keras.models import Sequential\n",
    "from tensorflow.keras.preprocessing.sequence import pad_sequences\n",
    "import tensorflow.keras.utils as ku"
   ]
  },
  {
   "cell_type": "markdown",
   "metadata": {},
   "source": [
    "Lets use a popular nursery rhyme — “Cat and Her Kittens” as our corpus. A corpus is defined as the collection of text documents."
   ]
  },
  {
   "cell_type": "code",
   "execution_count": 2,
   "metadata": {},
   "outputs": [],
   "source": [
    "data = \"\"\"The cat and her kittens\n",
    "They put on their mittens,\n",
    "To eat a Christmas pie.\n",
    "The poor little kittens\n",
    "They lost their mittens,\n",
    "And then they began to cry.\n",
    "O mother dear, we sadly fear\n",
    "We cannot go to-day,\n",
    "For we have lost our mittens.\"\n",
    "\"If it be so, ye shall not go,\n",
    "For ye are naughty kittens.\"\"\""
   ]
  },
  {
   "cell_type": "markdown",
   "metadata": {},
   "source": [
    "There will be three main parts of the code: dataset preparation, model training, and generating prediction. The boiler plate code of this architecture is following:"
   ]
  },
  {
   "cell_type": "code",
   "execution_count": 3,
   "metadata": {},
   "outputs": [],
   "source": [
    "def dataset_preparation():\n",
    "    pass \n",
    "def create_model():\n",
    "    pass\n",
    "def generate_text():\n",
    "    pass"
   ]
  },
  {
   "cell_type": "markdown",
   "metadata": {},
   "source": [
    "In dataset preparation step, we will first perform Tokenization. Tokenization is a process of extracting tokens (terms / words) from a corpus. An inbuilt model for tokenization which can be used to obtain the tokens and their index in the corpus."
   ]
  },
  {
   "cell_type": "markdown",
   "metadata": {},
   "source": [
    "# we need to convert the corpus into a flat dataset of sentence sequences.\n",
    " \n",
    "fit_on_texts: Updates internal vocabulary based on a list of texts. This method creates the vocabulary index based on word frequency. So if you give it something like, \"The cat sat on the mat.\" It will create a dictionary s.t. word_index[\"the\"] = 1; word_index[\"cat\"] = 2 it is word -> index dictionary so every word gets a unique integer value. 0 is reserved for padding. So lower integer means more frequent word (often the first few are stop words because they appear a lot).\n",
    "\n",
    "texts_to_sequences: Transforms each text in texts to a sequence of integers. So it basically takes each word in the text and replaces it with its corresponding integer value from the word_index dictionary. Nothing more, nothing less, certainly no magic involved."
   ]
  },
  {
   "cell_type": "raw",
   "metadata": {},
   "source": [
    "To input this data into a learning model, we need to create predictors and label. We will create N-grams sequence as predictors and the next word of the N-gram as label. For example:\n",
    "    \"\"\"\n",
    "Sentence: \"they are learning data science\"\n",
    "PREDICTORS             | LABEL\n",
    "they                   | are\n",
    "they are               | learning\n",
    "they are learning      | data\n",
    "they are learning data | science\n",
    "\"\""
   ]
  },
  {
   "cell_type": "code",
   "execution_count": 41,
   "metadata": {},
   "outputs": [],
   "source": [
    "def dataset_preparation(data):\n",
    "    tokenizer = Tokenizer()\n",
    "    corpus = data.lower().split(\"\\n\")\n",
    "    tokenizer.fit_on_texts(corpus)\n",
    "    total_words = len(tokenizer.word_index) + 1\n",
    "    \n",
    "    input_sequences = []\n",
    "    \n",
    "    for line in corpus:\n",
    "        token_list = tokenizer.texts_to_sequences([line])[0]\n",
    "        for i in range(1, len(token_list)):\n",
    "            n_gram_sequence = token_list[:i+1]\n",
    "            input_sequences.append(n_gram_sequence)\n",
    "    #pad the sequences and make their lengths equal. We can use pad_sequence function of Keras for this purpose.\n",
    "    max_sequence_len = max(len(x) for x in input_sequences)\n",
    "    input_sequences = pad_sequences(input_sequences, maxlen = max_sequence_len, padding = 'pre')\n",
    "    \n",
    "    predictors, label = input_sequences[:,:-1], input_sequences[:,-1]\n",
    "    label = ku.to_categorical(label, num_classes = total_words)\n",
    "    \n",
    "    return predictors, label, max_sequence_len, total_words, tokenizer"
   ]
  },
  {
   "cell_type": "markdown",
   "metadata": {},
   "source": [
    "Perfect, now we can obtain the input vector X and the label vector Y which can be used for the training purposes. Recent research experiments have shown that recurrent neural networks have shown a good performance in sequence to sequence learning and text data applications. Lets look at them in brief."
   ]
  },
  {
   "cell_type": "code",
   "execution_count": 44,
   "metadata": {},
   "outputs": [],
   "source": [
    "def create_model(predictors, label, max_seq_len, total_words):\n",
    "    input_len = max_seq_len - 1\n",
    "    model = Sequential()\n",
    "    model.add(Embedding(total_words, 10, input_length = input_len))\n",
    "    model.add(LSTM(150))\n",
    "    model.add(Dropout(0.1))\n",
    "    model.add(Dense(total_words, activation = \"softmax\"))\n",
    "    model.compile(loss = \"categorical_crossentropy\", optimizer = 'adam')\n",
    "    model.fit(predictors, label, epochs = 100, verbose = 2)\n",
    "    return model"
   ]
  },
  {
   "cell_type": "markdown",
   "metadata": {},
   "source": [
    "Great, our model architecture is now ready and we can train it using our data. Next lets write the function to predict the next word based on the input words (or seed text). We will first tokenize the seed text, pad the sequences and pass into the trained model to get predicted word. The multiple predicted words can be appended together to get predicted sequence."
   ]
  },
  {
   "cell_type": "code",
   "execution_count": 46,
   "metadata": {},
   "outputs": [],
   "source": [
    "def generate_text(seed_text, next_words, max_sequence_len, model, tokenizer):\n",
    "    for j in range(next_words):\n",
    "        token_list = tokenizer.texts_to_sequences([seed_text])[0]\n",
    "        token_list = pad_sequences([token_list], maxlen = max_sequence_len - 1, padding = 'pre')\n",
    "        predicted = model.predict_classes(token_list, verbose = 0)\n",
    "        #Generating next words to the seed text\n",
    "        output_word = \"\"\n",
    "        for word, index in tokenizer.word_index.items():\n",
    "            if index == predicted:\n",
    "                output_word = word\n",
    "                break\n",
    "        seed_text += \" \" + output_word\n",
    "    return seed_text, predicted"
   ]
  },
  {
   "cell_type": "code",
   "execution_count": 45,
   "metadata": {
    "collapsed": true
   },
   "outputs": [
    {
     "name": "stdout",
     "output_type": "stream",
     "text": [
      "Train on 48 samples\n",
      "Epoch 1/100\n",
      "48/48 - 1s - loss: 3.7626\n",
      "Epoch 2/100\n",
      "48/48 - 0s - loss: 3.7588\n",
      "Epoch 3/100\n",
      "48/48 - 0s - loss: 3.7557\n",
      "Epoch 4/100\n",
      "48/48 - 0s - loss: 3.7522\n",
      "Epoch 5/100\n",
      "48/48 - 0s - loss: 3.7491\n",
      "Epoch 6/100\n",
      "48/48 - 0s - loss: 3.7451\n",
      "Epoch 7/100\n",
      "48/48 - 0s - loss: 3.7405\n",
      "Epoch 8/100\n",
      "48/48 - 0s - loss: 3.7350\n",
      "Epoch 9/100\n",
      "48/48 - 0s - loss: 3.7289\n",
      "Epoch 10/100\n",
      "48/48 - 0s - loss: 3.7212\n",
      "Epoch 11/100\n",
      "48/48 - 0s - loss: 3.7135\n",
      "Epoch 12/100\n",
      "48/48 - 0s - loss: 3.7028\n",
      "Epoch 13/100\n",
      "48/48 - 0s - loss: 3.6827\n",
      "Epoch 14/100\n",
      "48/48 - 0s - loss: 3.6595\n",
      "Epoch 15/100\n",
      "48/48 - 0s - loss: 3.6504\n",
      "Epoch 16/100\n",
      "48/48 - 0s - loss: 3.6077\n",
      "Epoch 17/100\n",
      "48/48 - 0s - loss: 3.5931\n",
      "Epoch 18/100\n",
      "48/48 - 0s - loss: 3.5695\n",
      "Epoch 19/100\n",
      "48/48 - 0s - loss: 3.5932\n",
      "Epoch 20/100\n",
      "48/48 - 0s - loss: 3.6032\n",
      "Epoch 21/100\n",
      "48/48 - 0s - loss: 3.5586\n",
      "Epoch 22/100\n",
      "48/48 - 0s - loss: 3.5671\n",
      "Epoch 23/100\n",
      "48/48 - 0s - loss: 3.5667\n",
      "Epoch 24/100\n",
      "48/48 - 0s - loss: 3.5524\n",
      "Epoch 25/100\n",
      "48/48 - 0s - loss: 3.5604\n",
      "Epoch 26/100\n",
      "48/48 - 0s - loss: 3.5589\n",
      "Epoch 27/100\n",
      "48/48 - 0s - loss: 3.5421\n",
      "Epoch 28/100\n",
      "48/48 - 0s - loss: 3.5428\n",
      "Epoch 29/100\n",
      "48/48 - 0s - loss: 3.5340\n",
      "Epoch 30/100\n",
      "48/48 - 0s - loss: 3.5287\n",
      "Epoch 31/100\n",
      "48/48 - 0s - loss: 3.5201\n",
      "Epoch 32/100\n",
      "48/48 - 0s - loss: 3.5110\n",
      "Epoch 33/100\n",
      "48/48 - 0s - loss: 3.4964\n",
      "Epoch 34/100\n",
      "48/48 - 0s - loss: 3.4751\n",
      "Epoch 35/100\n",
      "48/48 - 0s - loss: 3.4798\n",
      "Epoch 36/100\n",
      "48/48 - 0s - loss: 3.4383\n",
      "Epoch 37/100\n",
      "48/48 - 0s - loss: 3.4673\n",
      "Epoch 38/100\n",
      "48/48 - 0s - loss: 3.4652\n",
      "Epoch 39/100\n",
      "48/48 - 0s - loss: 3.4159\n",
      "Epoch 40/100\n",
      "48/48 - 0s - loss: 3.4147\n",
      "Epoch 41/100\n",
      "48/48 - 0s - loss: 3.4151\n",
      "Epoch 42/100\n",
      "48/48 - 0s - loss: 3.3663\n",
      "Epoch 43/100\n",
      "48/48 - 0s - loss: 3.3345\n",
      "Epoch 44/100\n",
      "48/48 - 0s - loss: 3.3320\n",
      "Epoch 45/100\n",
      "48/48 - 0s - loss: 3.2526\n",
      "Epoch 46/100\n",
      "48/48 - 0s - loss: 3.2353\n",
      "Epoch 47/100\n",
      "48/48 - 0s - loss: 3.1731\n",
      "Epoch 48/100\n",
      "48/48 - 0s - loss: 3.1075\n",
      "Epoch 49/100\n",
      "48/48 - 0s - loss: 3.0894\n",
      "Epoch 50/100\n",
      "48/48 - 0s - loss: 3.0591\n",
      "Epoch 51/100\n",
      "48/48 - 0s - loss: 2.9821\n",
      "Epoch 52/100\n",
      "48/48 - 0s - loss: 2.9059\n",
      "Epoch 53/100\n",
      "48/48 - 0s - loss: 2.8546\n",
      "Epoch 54/100\n",
      "48/48 - 0s - loss: 2.8025\n",
      "Epoch 55/100\n",
      "48/48 - 0s - loss: 2.7771\n",
      "Epoch 56/100\n",
      "48/48 - 0s - loss: 2.7176\n",
      "Epoch 57/100\n",
      "48/48 - 0s - loss: 2.6899\n",
      "Epoch 58/100\n",
      "48/48 - 0s - loss: 2.6595\n",
      "Epoch 59/100\n",
      "48/48 - 0s - loss: 2.6063\n",
      "Epoch 60/100\n",
      "48/48 - 0s - loss: 2.5231\n",
      "Epoch 61/100\n",
      "48/48 - 0s - loss: 2.5303\n",
      "Epoch 62/100\n",
      "48/48 - 0s - loss: 2.4892\n",
      "Epoch 63/100\n",
      "48/48 - 0s - loss: 2.4318\n",
      "Epoch 64/100\n",
      "48/48 - 0s - loss: 2.3888\n",
      "Epoch 65/100\n",
      "48/48 - 0s - loss: 2.4027\n",
      "Epoch 66/100\n",
      "48/48 - 0s - loss: 2.3504\n",
      "Epoch 67/100\n",
      "48/48 - 0s - loss: 2.3860\n",
      "Epoch 68/100\n",
      "48/48 - 0s - loss: 2.2606\n",
      "Epoch 69/100\n",
      "48/48 - 0s - loss: 2.2127\n",
      "Epoch 70/100\n",
      "48/48 - 0s - loss: 2.2151\n",
      "Epoch 71/100\n",
      "48/48 - 0s - loss: 2.1294\n",
      "Epoch 72/100\n",
      "48/48 - 0s - loss: 2.1364\n",
      "Epoch 73/100\n",
      "48/48 - 0s - loss: 2.1016\n",
      "Epoch 74/100\n",
      "48/48 - 0s - loss: 2.0806\n",
      "Epoch 75/100\n",
      "48/48 - 0s - loss: 1.9470\n",
      "Epoch 76/100\n",
      "48/48 - 0s - loss: 2.0862\n",
      "Epoch 77/100\n",
      "48/48 - 0s - loss: 2.0113\n",
      "Epoch 78/100\n",
      "48/48 - 0s - loss: 2.0038\n",
      "Epoch 79/100\n",
      "48/48 - 0s - loss: 1.9170\n",
      "Epoch 80/100\n",
      "48/48 - 0s - loss: 1.9368\n",
      "Epoch 81/100\n",
      "48/48 - 0s - loss: 1.8433\n",
      "Epoch 82/100\n",
      "48/48 - 0s - loss: 1.8597\n",
      "Epoch 83/100\n",
      "48/48 - 0s - loss: 1.8845\n",
      "Epoch 84/100\n",
      "48/48 - 0s - loss: 1.8663\n",
      "Epoch 85/100\n",
      "48/48 - 0s - loss: 1.8691\n",
      "Epoch 86/100\n",
      "48/48 - 0s - loss: 1.7836\n",
      "Epoch 87/100\n",
      "48/48 - 0s - loss: 1.8069\n",
      "Epoch 88/100\n",
      "48/48 - 0s - loss: 1.7107\n",
      "Epoch 89/100\n",
      "48/48 - 0s - loss: 1.7414\n",
      "Epoch 90/100\n",
      "48/48 - 0s - loss: 1.6727\n",
      "Epoch 91/100\n",
      "48/48 - 0s - loss: 1.7317\n",
      "Epoch 92/100\n",
      "48/48 - 0s - loss: 1.6969\n",
      "Epoch 93/100\n",
      "48/48 - 0s - loss: 1.6501\n",
      "Epoch 94/100\n",
      "48/48 - 0s - loss: 1.5947\n",
      "Epoch 95/100\n",
      "48/48 - 0s - loss: 1.6003\n",
      "Epoch 96/100\n",
      "48/48 - 0s - loss: 1.6290\n",
      "Epoch 97/100\n",
      "48/48 - 0s - loss: 1.6137\n",
      "Epoch 98/100\n",
      "48/48 - 0s - loss: 1.5561\n",
      "Epoch 99/100\n",
      "48/48 - 0s - loss: 1.5553\n",
      "Epoch 100/100\n",
      "48/48 - 0s - loss: 1.4685\n"
     ]
    }
   ],
   "source": [
    "#Fitting the model\n",
    "X, Y, max_len, total_words, tokenizer =  dataset_preparation(data)\n",
    "model = create_model(X, Y, max_len, total_words)"
   ]
  },
  {
   "cell_type": "code",
   "execution_count": 49,
   "metadata": {},
   "outputs": [
    {
     "name": "stdout",
     "output_type": "stream",
     "text": [
      "cat and and her kittens\n"
     ]
    }
   ],
   "source": [
    "#Generating Text\n",
    "text, predicted = generate_text(\"cat and\", 3, max_len, model, tokenizer)\n",
    "print(text)"
   ]
  },
  {
   "cell_type": "code",
   "execution_count": 35,
   "metadata": {},
   "outputs": [
    {
     "name": "stdout",
     "output_type": "stream",
     "text": [
      "cat and her kittens kittens\n"
     ]
    }
   ],
   "source": [
    "text = generate_text(\"cat and\", 3, max_len, model, tokenizer)\n",
    "print(text)"
   ]
  },
  {
   "cell_type": "code",
   "execution_count": 50,
   "metadata": {},
   "outputs": [
    {
     "name": "stdout",
     "output_type": "stream",
     "text": [
      "we naughty lost to day\n"
     ]
    }
   ],
   "source": [
    "text, predicted = generate_text(\"we naughty\", 3, max_len, model, tokenizer)\n",
    "print(text)"
   ]
  },
  {
   "cell_type": "code",
   "execution_count": null,
   "metadata": {},
   "outputs": [],
   "source": []
  }
 ],
 "metadata": {
  "kernelspec": {
   "display_name": "Python 3",
   "language": "python",
   "name": "python3"
  },
  "language_info": {
   "codemirror_mode": {
    "name": "ipython",
    "version": 3
   },
   "file_extension": ".py",
   "mimetype": "text/x-python",
   "name": "python",
   "nbconvert_exporter": "python",
   "pygments_lexer": "ipython3",
   "version": "3.7.4"
  }
 },
 "nbformat": 4,
 "nbformat_minor": 2
}
